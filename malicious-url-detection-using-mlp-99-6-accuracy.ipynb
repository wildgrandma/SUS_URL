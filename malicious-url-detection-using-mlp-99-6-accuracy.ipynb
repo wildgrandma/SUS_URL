{
 "cells": [
  {
   "cell_type": "markdown",
   "metadata": {
    "papermill": {
     "duration": 0.044271,
     "end_time": "2020-12-22T08:04:46.704117",
     "exception": false,
     "start_time": "2020-12-22T08:04:46.659846",
     "status": "completed"
    },
    "tags": []
   },
   "source": [
    "# Malicious URL detection using MLP<br>\n"
   ]
  },
  {
   "cell_type": "code",
   "execution_count": 1,
   "metadata": {
    "_cell_guid": "b1076dfc-b9ad-4769-8c92-a6c4dae69d19",
    "_uuid": "8f2839f25d086af736a60e9eeb907d3b93b6e0e5",
    "execution": {
     "iopub.execute_input": "2020-12-22T08:04:46.794988Z",
     "iopub.status.busy": "2020-12-22T08:04:46.794381Z",
     "iopub.status.idle": "2020-12-22T08:04:47.868672Z",
     "shell.execute_reply": "2020-12-22T08:04:47.867818Z"
    },
    "papermill": {
     "duration": 1.120401,
     "end_time": "2020-12-22T08:04:47.868788",
     "exception": false,
     "start_time": "2020-12-22T08:04:46.748387",
     "status": "completed"
    },
    "tags": []
   },
   "outputs": [
    {
     "name": "stdout",
     "output_type": "stream",
     "text": [
      "['malicious-and-benign-urls']\n"
     ]
    }
   ],
   "source": [
    "\n",
    "import numpy as np \n",
    "import pandas as pd \n",
    "\n",
    "import matplotlib.pyplot as plt\n",
    "import seaborn as sns\n",
    "\n",
    "import os\n",
    "print(os.listdir(\"../input\"))\n"
   ]
  },
  {
   "cell_type": "code",
   "execution_count": 2,
   "metadata": {
    "_cell_guid": "79c7e3d0-c299-4dcb-8224-4455121ee9b0",
    "_uuid": "d629ff2d2480ee46fbb7e2d37f6b5fab8052498a",
    "execution": {
     "iopub.execute_input": "2020-12-22T08:04:47.973016Z",
     "iopub.status.busy": "2020-12-22T08:04:47.971950Z",
     "iopub.status.idle": "2020-12-22T08:04:49.109440Z",
     "shell.execute_reply": "2020-12-22T08:04:49.108743Z"
    },
    "papermill": {
     "duration": 1.194705,
     "end_time": "2020-12-22T08:04:49.109552",
     "exception": false,
     "start_time": "2020-12-22T08:04:47.914847",
     "status": "completed"
    },
    "tags": []
   },
   "outputs": [],
   "source": [
    "urldata = pd.read_csv(\"../input/malicious-and-benign-urls/urldata.csv\")"
   ]
  },
  {
   "cell_type": "code",
   "execution_count": 3,
   "metadata": {
    "execution": {
     "iopub.execute_input": "2020-12-22T08:04:49.216153Z",
     "iopub.status.busy": "2020-12-22T08:04:49.208184Z",
     "iopub.status.idle": "2020-12-22T08:04:49.229626Z",
     "shell.execute_reply": "2020-12-22T08:04:49.230209Z"
    },
    "papermill": {
     "duration": 0.076552,
     "end_time": "2020-12-22T08:04:49.230388",
     "exception": false,
     "start_time": "2020-12-22T08:04:49.153836",
     "status": "completed"
    },
    "tags": []
   },
   "outputs": [
    {
     "data": {
      "text/html": [
       "<div>\n",
       "<style scoped>\n",
       "    .dataframe tbody tr th:only-of-type {\n",
       "        vertical-align: middle;\n",
       "    }\n",
       "\n",
       "    .dataframe tbody tr th {\n",
       "        vertical-align: top;\n",
       "    }\n",
       "\n",
       "    .dataframe thead th {\n",
       "        text-align: right;\n",
       "    }\n",
       "</style>\n",
       "<table border=\"1\" class=\"dataframe\">\n",
       "  <thead>\n",
       "    <tr style=\"text-align: right;\">\n",
       "      <th></th>\n",
       "      <th>Unnamed: 0</th>\n",
       "      <th>url</th>\n",
       "      <th>label</th>\n",
       "      <th>result</th>\n",
       "    </tr>\n",
       "  </thead>\n",
       "  <tbody>\n",
       "    <tr>\n",
       "      <th>0</th>\n",
       "      <td>0</td>\n",
       "      <td>https://www.google.com</td>\n",
       "      <td>benign</td>\n",
       "      <td>0</td>\n",
       "    </tr>\n",
       "    <tr>\n",
       "      <th>1</th>\n",
       "      <td>1</td>\n",
       "      <td>https://www.youtube.com</td>\n",
       "      <td>benign</td>\n",
       "      <td>0</td>\n",
       "    </tr>\n",
       "    <tr>\n",
       "      <th>2</th>\n",
       "      <td>2</td>\n",
       "      <td>https://www.facebook.com</td>\n",
       "      <td>benign</td>\n",
       "      <td>0</td>\n",
       "    </tr>\n",
       "    <tr>\n",
       "      <th>3</th>\n",
       "      <td>3</td>\n",
       "      <td>https://www.baidu.com</td>\n",
       "      <td>benign</td>\n",
       "      <td>0</td>\n",
       "    </tr>\n",
       "    <tr>\n",
       "      <th>4</th>\n",
       "      <td>4</td>\n",
       "      <td>https://www.wikipedia.org</td>\n",
       "      <td>benign</td>\n",
       "      <td>0</td>\n",
       "    </tr>\n",
       "  </tbody>\n",
       "</table>\n",
       "</div>"
      ],
      "text/plain": [
       "   Unnamed: 0                        url   label  result\n",
       "0           0     https://www.google.com  benign       0\n",
       "1           1    https://www.youtube.com  benign       0\n",
       "2           2   https://www.facebook.com  benign       0\n",
       "3           3      https://www.baidu.com  benign       0\n",
       "4           4  https://www.wikipedia.org  benign       0"
      ]
     },
     "execution_count": 3,
     "metadata": {},
     "output_type": "execute_result"
    }
   ],
   "source": [
    "urldata.head()"
   ]
  },
  {
   "cell_type": "code",
   "execution_count": 4,
   "metadata": {
    "execution": {
     "iopub.execute_input": "2020-12-22T08:04:49.343585Z",
     "iopub.status.busy": "2020-12-22T08:04:49.328365Z",
     "iopub.status.idle": "2020-12-22T08:04:49.350013Z",
     "shell.execute_reply": "2020-12-22T08:04:49.349153Z"
    },
    "papermill": {
     "duration": 0.073845,
     "end_time": "2020-12-22T08:04:49.350147",
     "exception": false,
     "start_time": "2020-12-22T08:04:49.276302",
     "status": "completed"
    },
    "tags": []
   },
   "outputs": [],
   "source": [
    "#Removing the unnamed columns as it is not necesary.\n",
    "urldata = urldata.drop('Unnamed: 0',axis=1)"
   ]
  },
  {
   "cell_type": "code",
   "execution_count": 5,
   "metadata": {
    "execution": {
     "iopub.execute_input": "2020-12-22T08:04:49.498605Z",
     "iopub.status.busy": "2020-12-22T08:04:49.497527Z",
     "iopub.status.idle": "2020-12-22T08:04:49.503288Z",
     "shell.execute_reply": "2020-12-22T08:04:49.502636Z"
    },
    "papermill": {
     "duration": 0.083835,
     "end_time": "2020-12-22T08:04:49.503396",
     "exception": false,
     "start_time": "2020-12-22T08:04:49.419561",
     "status": "completed"
    },
    "tags": []
   },
   "outputs": [
    {
     "data": {
      "text/html": [
       "<div>\n",
       "<style scoped>\n",
       "    .dataframe tbody tr th:only-of-type {\n",
       "        vertical-align: middle;\n",
       "    }\n",
       "\n",
       "    .dataframe tbody tr th {\n",
       "        vertical-align: top;\n",
       "    }\n",
       "\n",
       "    .dataframe thead th {\n",
       "        text-align: right;\n",
       "    }\n",
       "</style>\n",
       "<table border=\"1\" class=\"dataframe\">\n",
       "  <thead>\n",
       "    <tr style=\"text-align: right;\">\n",
       "      <th></th>\n",
       "      <th>url</th>\n",
       "      <th>label</th>\n",
       "      <th>result</th>\n",
       "    </tr>\n",
       "  </thead>\n",
       "  <tbody>\n",
       "    <tr>\n",
       "      <th>0</th>\n",
       "      <td>https://www.google.com</td>\n",
       "      <td>benign</td>\n",
       "      <td>0</td>\n",
       "    </tr>\n",
       "    <tr>\n",
       "      <th>1</th>\n",
       "      <td>https://www.youtube.com</td>\n",
       "      <td>benign</td>\n",
       "      <td>0</td>\n",
       "    </tr>\n",
       "    <tr>\n",
       "      <th>2</th>\n",
       "      <td>https://www.facebook.com</td>\n",
       "      <td>benign</td>\n",
       "      <td>0</td>\n",
       "    </tr>\n",
       "    <tr>\n",
       "      <th>3</th>\n",
       "      <td>https://www.baidu.com</td>\n",
       "      <td>benign</td>\n",
       "      <td>0</td>\n",
       "    </tr>\n",
       "    <tr>\n",
       "      <th>4</th>\n",
       "      <td>https://www.wikipedia.org</td>\n",
       "      <td>benign</td>\n",
       "      <td>0</td>\n",
       "    </tr>\n",
       "  </tbody>\n",
       "</table>\n",
       "</div>"
      ],
      "text/plain": [
       "                         url   label  result\n",
       "0     https://www.google.com  benign       0\n",
       "1    https://www.youtube.com  benign       0\n",
       "2   https://www.facebook.com  benign       0\n",
       "3      https://www.baidu.com  benign       0\n",
       "4  https://www.wikipedia.org  benign       0"
      ]
     },
     "execution_count": 5,
     "metadata": {},
     "output_type": "execute_result"
    }
   ],
   "source": [
    "urldata.head()"
   ]
  },
  {
   "cell_type": "code",
   "execution_count": 6,
   "metadata": {
    "execution": {
     "iopub.execute_input": "2020-12-22T08:04:49.599759Z",
     "iopub.status.busy": "2020-12-22T08:04:49.599073Z",
     "iopub.status.idle": "2020-12-22T08:04:49.604334Z",
     "shell.execute_reply": "2020-12-22T08:04:49.603796Z"
    },
    "papermill": {
     "duration": 0.055717,
     "end_time": "2020-12-22T08:04:49.604450",
     "exception": false,
     "start_time": "2020-12-22T08:04:49.548733",
     "status": "completed"
    },
    "tags": []
   },
   "outputs": [
    {
     "data": {
      "text/plain": [
       "(450176, 3)"
      ]
     },
     "execution_count": 6,
     "metadata": {},
     "output_type": "execute_result"
    }
   ],
   "source": [
    "urldata.shape"
   ]
  },
  {
   "cell_type": "code",
   "execution_count": 7,
   "metadata": {
    "execution": {
     "iopub.execute_input": "2020-12-22T08:04:49.753818Z",
     "iopub.status.busy": "2020-12-22T08:04:49.753138Z",
     "iopub.status.idle": "2020-12-22T08:04:49.771702Z",
     "shell.execute_reply": "2020-12-22T08:04:49.770542Z"
    },
    "papermill": {
     "duration": 0.118148,
     "end_time": "2020-12-22T08:04:49.771875",
     "exception": false,
     "start_time": "2020-12-22T08:04:49.653727",
     "status": "completed"
    },
    "tags": []
   },
   "outputs": [
    {
     "name": "stdout",
     "output_type": "stream",
     "text": [
      "<class 'pandas.core.frame.DataFrame'>\n",
      "RangeIndex: 450176 entries, 0 to 450175\n",
      "Data columns (total 3 columns):\n",
      " #   Column  Non-Null Count   Dtype \n",
      "---  ------  --------------   ----- \n",
      " 0   url     450176 non-null  object\n",
      " 1   label   450176 non-null  object\n",
      " 2   result  450176 non-null  int64 \n",
      "dtypes: int64(1), object(2)\n",
      "memory usage: 10.3+ MB\n"
     ]
    }
   ],
   "source": [
    "urldata.info()"
   ]
  },
  {
   "cell_type": "markdown",
   "metadata": {
    "papermill": {
     "duration": 0.072383,
     "end_time": "2020-12-22T08:04:49.918035",
     "exception": false,
     "start_time": "2020-12-22T08:04:49.845652",
     "status": "completed"
    },
    "tags": []
   },
   "source": [
    "Checking Missing Values"
   ]
  },
  {
   "cell_type": "code",
   "execution_count": 8,
   "metadata": {
    "execution": {
     "iopub.execute_input": "2020-12-22T08:04:50.197010Z",
     "iopub.status.busy": "2020-12-22T08:04:50.195678Z",
     "iopub.status.idle": "2020-12-22T08:04:50.212115Z",
     "shell.execute_reply": "2020-12-22T08:04:50.210763Z"
    },
    "papermill": {
     "duration": 0.222633,
     "end_time": "2020-12-22T08:04:50.212303",
     "exception": false,
     "start_time": "2020-12-22T08:04:49.989670",
     "status": "completed"
    },
    "tags": []
   },
   "outputs": [
    {
     "data": {
      "text/plain": [
       "url       0\n",
       "label     0\n",
       "result    0\n",
       "dtype: int64"
      ]
     },
     "execution_count": 8,
     "metadata": {},
     "output_type": "execute_result"
    }
   ],
   "source": [
    "urldata.isnull().sum()"
   ]
  },
  {
   "cell_type": "markdown",
   "metadata": {
    "papermill": {
     "duration": 0.072268,
     "end_time": "2020-12-22T08:04:50.357969",
     "exception": false,
     "start_time": "2020-12-22T08:04:50.285701",
     "status": "completed"
    },
    "tags": []
   },
   "source": [
    "# 1. DATA PREPROCESSING"
   ]
  },
  {
   "cell_type": "markdown",
   "metadata": {
    "papermill": {
     "duration": 0.071227,
     "end_time": "2020-12-22T08:04:50.501347",
     "exception": false,
     "start_time": "2020-12-22T08:04:50.430120",
     "status": "completed"
    },
    "tags": []
   },
   "source": [
    "The following features will be extracted from the URL for classification. <br>\n",
    "<ol>\n",
    "    <li>Length Features\n",
    "    <ul>\n",
    "        <li>Length Of Url</li>\n",
    "        <li>Length of Hostname</li>\n",
    "        <li>Length Of Path</li>\n",
    "        <li>Length Of First Directory</li>\n",
    "        <li>Length Of Top Level Domain</li>\n",
    "    </ul>\n",
    "    </li>\n",
    "    <br>\n",
    "   <li>Count Features\n",
    "    <ul>\n",
    "    <li>Count Of  '-'</li>\n",
    "    <li>Count Of '@'</li>\n",
    "    <li>Count Of '?'</li>\n",
    "    <li>Count Of '%'</li>\n",
    "    <li>Count Of '.'</li>\n",
    "    <li>Count Of '='</li>\n",
    "    <li>Count Of 'http'</li>\n",
    "    <li>Count Of 'www'</li>\n",
    "    <li>Count Of Digits</li>\n",
    "    <li>Count Of Letters</li>\n",
    "    <li>Count Of Number Of Directories</li>\n",
    "    </ul>\n",
    "    </li>\n",
    "    <br>\n",
    "    <li>Binary Features\n",
    "    <ul>\n",
    "        <li>Use of IP or not</li>\n",
    "        <li>Use of Shortening URL or not</li>\n",
    "    </ul>\n",
    "    </li>\n",
    "    \n",
    "</ol>\n",
    "\n"
   ]
  },
  {
   "cell_type": "markdown",
   "metadata": {
    "papermill": {
     "duration": 0.072419,
     "end_time": "2020-12-22T08:04:50.645096",
     "exception": false,
     "start_time": "2020-12-22T08:04:50.572677",
     "status": "completed"
    },
    "tags": []
   },
   "source": [
    "### 1.1 Length Features"
   ]
  },
  {
   "cell_type": "code",
   "execution_count": 9,
   "metadata": {
    "execution": {
     "iopub.execute_input": "2020-12-22T08:04:50.794939Z",
     "iopub.status.busy": "2020-12-22T08:04:50.794037Z",
     "iopub.status.idle": "2020-12-22T08:04:50.797866Z",
     "shell.execute_reply": "2020-12-22T08:04:50.797013Z"
    },
    "papermill": {
     "duration": 0.08099,
     "end_time": "2020-12-22T08:04:50.797996",
     "exception": false,
     "start_time": "2020-12-22T08:04:50.717006",
     "status": "completed"
    },
    "tags": []
   },
   "outputs": [],
   "source": [
    "#Importing dependencies\n",
    "from urllib.parse import urlparse\n",
    "import os.path"
   ]
  },
  {
   "cell_type": "code",
   "execution_count": 10,
   "metadata": {
    "execution": {
     "iopub.execute_input": "2020-12-22T08:04:50.960302Z",
     "iopub.status.busy": "2020-12-22T08:04:50.954991Z",
     "iopub.status.idle": "2020-12-22T08:04:51.235680Z",
     "shell.execute_reply": "2020-12-22T08:04:51.234920Z"
    },
    "papermill": {
     "duration": 0.364379,
     "end_time": "2020-12-22T08:04:51.235822",
     "exception": false,
     "start_time": "2020-12-22T08:04:50.871443",
     "status": "completed"
    },
    "tags": []
   },
   "outputs": [],
   "source": [
    "#Length of URL\n",
    "urldata['url_length'] = urldata['url'].apply(lambda i: len(str(i)))"
   ]
  },
  {
   "cell_type": "code",
   "execution_count": 11,
   "metadata": {
    "execution": {
     "iopub.execute_input": "2020-12-22T08:04:51.400564Z",
     "iopub.status.busy": "2020-12-22T08:04:51.394782Z",
     "iopub.status.idle": "2020-12-22T08:04:55.605811Z",
     "shell.execute_reply": "2020-12-22T08:04:55.605115Z"
    },
    "papermill": {
     "duration": 4.296736,
     "end_time": "2020-12-22T08:04:55.605919",
     "exception": false,
     "start_time": "2020-12-22T08:04:51.309183",
     "status": "completed"
    },
    "tags": []
   },
   "outputs": [],
   "source": [
    "#Hostname Length\n",
    "urldata['hostname_length'] = urldata['url'].apply(lambda i: len(urlparse(i).netloc))"
   ]
  },
  {
   "cell_type": "code",
   "execution_count": 12,
   "metadata": {
    "execution": {
     "iopub.execute_input": "2020-12-22T08:04:55.714874Z",
     "iopub.status.busy": "2020-12-22T08:04:55.714171Z",
     "iopub.status.idle": "2020-12-22T08:04:59.773798Z",
     "shell.execute_reply": "2020-12-22T08:04:59.774333Z"
    },
    "papermill": {
     "duration": 4.120264,
     "end_time": "2020-12-22T08:04:59.774478",
     "exception": false,
     "start_time": "2020-12-22T08:04:55.654214",
     "status": "completed"
    },
    "tags": []
   },
   "outputs": [],
   "source": [
    "#Path Length\n",
    "urldata['path_length'] = urldata['url'].apply(lambda i: len(urlparse(i).path))"
   ]
  },
  {
   "cell_type": "code",
   "execution_count": 13,
   "metadata": {
    "execution": {
     "iopub.execute_input": "2020-12-22T08:04:59.887650Z",
     "iopub.status.busy": "2020-12-22T08:04:59.886929Z",
     "iopub.status.idle": "2020-12-22T08:05:04.344274Z",
     "shell.execute_reply": "2020-12-22T08:05:04.343674Z"
    },
    "papermill": {
     "duration": 4.52205,
     "end_time": "2020-12-22T08:05:04.344385",
     "exception": false,
     "start_time": "2020-12-22T08:04:59.822335",
     "status": "completed"
    },
    "tags": []
   },
   "outputs": [],
   "source": [
    "#First Directory Length\n",
    "def fd_length(url):\n",
    "    urlpath= urlparse(url).path\n",
    "    try:\n",
    "        return len(urlpath.split('/')[1])\n",
    "    except:\n",
    "        return 0\n",
    "\n",
    "urldata['fd_length'] = urldata['url'].apply(lambda i: fd_length(i))"
   ]
  },
  {
   "cell_type": "code",
   "execution_count": 14,
   "metadata": {
    "execution": {
     "iopub.execute_input": "2020-12-22T08:05:04.454798Z",
     "iopub.status.busy": "2020-12-22T08:05:04.453726Z",
     "iopub.status.idle": "2020-12-22T08:05:04.459308Z",
     "shell.execute_reply": "2020-12-22T08:05:04.458748Z"
    },
    "papermill": {
     "duration": 0.067456,
     "end_time": "2020-12-22T08:05:04.459422",
     "exception": false,
     "start_time": "2020-12-22T08:05:04.391966",
     "status": "completed"
    },
    "tags": []
   },
   "outputs": [
    {
     "data": {
      "text/html": [
       "<div>\n",
       "<style scoped>\n",
       "    .dataframe tbody tr th:only-of-type {\n",
       "        vertical-align: middle;\n",
       "    }\n",
       "\n",
       "    .dataframe tbody tr th {\n",
       "        vertical-align: top;\n",
       "    }\n",
       "\n",
       "    .dataframe thead th {\n",
       "        text-align: right;\n",
       "    }\n",
       "</style>\n",
       "<table border=\"1\" class=\"dataframe\">\n",
       "  <thead>\n",
       "    <tr style=\"text-align: right;\">\n",
       "      <th></th>\n",
       "      <th>url</th>\n",
       "      <th>label</th>\n",
       "      <th>result</th>\n",
       "      <th>url_length</th>\n",
       "      <th>hostname_length</th>\n",
       "      <th>path_length</th>\n",
       "      <th>fd_length</th>\n",
       "    </tr>\n",
       "  </thead>\n",
       "  <tbody>\n",
       "    <tr>\n",
       "      <th>0</th>\n",
       "      <td>https://www.google.com</td>\n",
       "      <td>benign</td>\n",
       "      <td>0</td>\n",
       "      <td>22</td>\n",
       "      <td>14</td>\n",
       "      <td>0</td>\n",
       "      <td>0</td>\n",
       "    </tr>\n",
       "    <tr>\n",
       "      <th>1</th>\n",
       "      <td>https://www.youtube.com</td>\n",
       "      <td>benign</td>\n",
       "      <td>0</td>\n",
       "      <td>23</td>\n",
       "      <td>15</td>\n",
       "      <td>0</td>\n",
       "      <td>0</td>\n",
       "    </tr>\n",
       "    <tr>\n",
       "      <th>2</th>\n",
       "      <td>https://www.facebook.com</td>\n",
       "      <td>benign</td>\n",
       "      <td>0</td>\n",
       "      <td>24</td>\n",
       "      <td>16</td>\n",
       "      <td>0</td>\n",
       "      <td>0</td>\n",
       "    </tr>\n",
       "    <tr>\n",
       "      <th>3</th>\n",
       "      <td>https://www.baidu.com</td>\n",
       "      <td>benign</td>\n",
       "      <td>0</td>\n",
       "      <td>21</td>\n",
       "      <td>13</td>\n",
       "      <td>0</td>\n",
       "      <td>0</td>\n",
       "    </tr>\n",
       "    <tr>\n",
       "      <th>4</th>\n",
       "      <td>https://www.wikipedia.org</td>\n",
       "      <td>benign</td>\n",
       "      <td>0</td>\n",
       "      <td>25</td>\n",
       "      <td>17</td>\n",
       "      <td>0</td>\n",
       "      <td>0</td>\n",
       "    </tr>\n",
       "  </tbody>\n",
       "</table>\n",
       "</div>"
      ],
      "text/plain": [
       "                         url   label  result  url_length  hostname_length  \\\n",
       "0     https://www.google.com  benign       0          22               14   \n",
       "1    https://www.youtube.com  benign       0          23               15   \n",
       "2   https://www.facebook.com  benign       0          24               16   \n",
       "3      https://www.baidu.com  benign       0          21               13   \n",
       "4  https://www.wikipedia.org  benign       0          25               17   \n",
       "\n",
       "   path_length  fd_length  \n",
       "0            0          0  \n",
       "1            0          0  \n",
       "2            0          0  \n",
       "3            0          0  \n",
       "4            0          0  "
      ]
     },
     "execution_count": 14,
     "metadata": {},
     "output_type": "execute_result"
    }
   ],
   "source": [
    "urldata.head()"
   ]
  },
  {
   "cell_type": "markdown",
   "metadata": {
    "papermill": {
     "duration": 0.048775,
     "end_time": "2020-12-22T08:05:04.556507",
     "exception": false,
     "start_time": "2020-12-22T08:05:04.507732",
     "status": "completed"
    },
    "tags": []
   },
   "source": [
    "Dataset after extracting length features"
   ]
  },
  {
   "cell_type": "markdown",
   "metadata": {
    "papermill": {
     "duration": 0.048389,
     "end_time": "2020-12-22T08:05:04.654392",
     "exception": false,
     "start_time": "2020-12-22T08:05:04.606003",
     "status": "completed"
    },
    "tags": []
   },
   "source": [
    "### 1.2 Count Features"
   ]
  },
  {
   "cell_type": "code",
   "execution_count": 15,
   "metadata": {
    "execution": {
     "iopub.execute_input": "2020-12-22T08:05:04.772942Z",
     "iopub.status.busy": "2020-12-22T08:05:04.768077Z",
     "iopub.status.idle": "2020-12-22T08:05:05.063917Z",
     "shell.execute_reply": "2020-12-22T08:05:05.063077Z"
    },
    "papermill": {
     "duration": 0.358978,
     "end_time": "2020-12-22T08:05:05.064029",
     "exception": false,
     "start_time": "2020-12-22T08:05:04.705051",
     "status": "completed"
    },
    "tags": []
   },
   "outputs": [],
   "source": [
    "urldata['count-'] = urldata['url'].apply(lambda i: i.count('-'))"
   ]
  },
  {
   "cell_type": "code",
   "execution_count": 16,
   "metadata": {
    "execution": {
     "iopub.execute_input": "2020-12-22T08:05:05.175574Z",
     "iopub.status.busy": "2020-12-22T08:05:05.174892Z",
     "iopub.status.idle": "2020-12-22T08:05:05.461984Z",
     "shell.execute_reply": "2020-12-22T08:05:05.461153Z"
    },
    "papermill": {
     "duration": 0.349233,
     "end_time": "2020-12-22T08:05:05.462096",
     "exception": false,
     "start_time": "2020-12-22T08:05:05.112863",
     "status": "completed"
    },
    "tags": []
   },
   "outputs": [],
   "source": [
    "urldata['count@'] = urldata['url'].apply(lambda i: i.count('@'))"
   ]
  },
  {
   "cell_type": "code",
   "execution_count": 17,
   "metadata": {
    "execution": {
     "iopub.execute_input": "2020-12-22T08:05:05.565371Z",
     "iopub.status.busy": "2020-12-22T08:05:05.564739Z",
     "iopub.status.idle": "2020-12-22T08:05:05.860333Z",
     "shell.execute_reply": "2020-12-22T08:05:05.859768Z"
    },
    "papermill": {
     "duration": 0.349265,
     "end_time": "2020-12-22T08:05:05.860445",
     "exception": false,
     "start_time": "2020-12-22T08:05:05.511180",
     "status": "completed"
    },
    "tags": []
   },
   "outputs": [],
   "source": [
    "urldata['count?'] = urldata['url'].apply(lambda i: i.count('?'))"
   ]
  },
  {
   "cell_type": "code",
   "execution_count": 18,
   "metadata": {
    "execution": {
     "iopub.execute_input": "2020-12-22T08:05:05.972179Z",
     "iopub.status.busy": "2020-12-22T08:05:05.971297Z",
     "iopub.status.idle": "2020-12-22T08:05:06.262309Z",
     "shell.execute_reply": "2020-12-22T08:05:06.261720Z"
    },
    "papermill": {
     "duration": 0.352758,
     "end_time": "2020-12-22T08:05:06.262426",
     "exception": false,
     "start_time": "2020-12-22T08:05:05.909668",
     "status": "completed"
    },
    "tags": []
   },
   "outputs": [],
   "source": [
    "urldata['count%'] = urldata['url'].apply(lambda i: i.count('%'))"
   ]
  },
  {
   "cell_type": "code",
   "execution_count": 19,
   "metadata": {
    "execution": {
     "iopub.execute_input": "2020-12-22T08:05:06.375887Z",
     "iopub.status.busy": "2020-12-22T08:05:06.368606Z",
     "iopub.status.idle": "2020-12-22T08:05:06.673697Z",
     "shell.execute_reply": "2020-12-22T08:05:06.673015Z"
    },
    "papermill": {
     "duration": 0.361253,
     "end_time": "2020-12-22T08:05:06.673809",
     "exception": false,
     "start_time": "2020-12-22T08:05:06.312556",
     "status": "completed"
    },
    "tags": []
   },
   "outputs": [],
   "source": [
    "urldata['count.'] = urldata['url'].apply(lambda i: i.count('.'))"
   ]
  },
  {
   "cell_type": "code",
   "execution_count": 20,
   "metadata": {
    "execution": {
     "iopub.execute_input": "2020-12-22T08:05:06.786092Z",
     "iopub.status.busy": "2020-12-22T08:05:06.785189Z",
     "iopub.status.idle": "2020-12-22T08:05:07.081041Z",
     "shell.execute_reply": "2020-12-22T08:05:07.080220Z"
    },
    "papermill": {
     "duration": 0.357116,
     "end_time": "2020-12-22T08:05:07.081161",
     "exception": false,
     "start_time": "2020-12-22T08:05:06.724045",
     "status": "completed"
    },
    "tags": []
   },
   "outputs": [],
   "source": [
    "urldata['count='] = urldata['url'].apply(lambda i: i.count('='))"
   ]
  },
  {
   "cell_type": "code",
   "execution_count": 21,
   "metadata": {
    "execution": {
     "iopub.execute_input": "2020-12-22T08:05:07.198332Z",
     "iopub.status.busy": "2020-12-22T08:05:07.197214Z",
     "iopub.status.idle": "2020-12-22T08:05:07.490457Z",
     "shell.execute_reply": "2020-12-22T08:05:07.490944Z"
    },
    "papermill": {
     "duration": 0.355753,
     "end_time": "2020-12-22T08:05:07.491103",
     "exception": false,
     "start_time": "2020-12-22T08:05:07.135350",
     "status": "completed"
    },
    "tags": []
   },
   "outputs": [],
   "source": [
    "urldata['count-http'] = urldata['url'].apply(lambda i : i.count('http'))"
   ]
  },
  {
   "cell_type": "code",
   "execution_count": 22,
   "metadata": {
    "execution": {
     "iopub.execute_input": "2020-12-22T08:05:07.604126Z",
     "iopub.status.busy": "2020-12-22T08:05:07.595918Z",
     "iopub.status.idle": "2020-12-22T08:05:07.901064Z",
     "shell.execute_reply": "2020-12-22T08:05:07.900415Z"
    },
    "papermill": {
     "duration": 0.36008,
     "end_time": "2020-12-22T08:05:07.901185",
     "exception": false,
     "start_time": "2020-12-22T08:05:07.541105",
     "status": "completed"
    },
    "tags": []
   },
   "outputs": [],
   "source": [
    "urldata['count-https'] = urldata['url'].apply(lambda i : i.count('https'))"
   ]
  },
  {
   "cell_type": "code",
   "execution_count": 23,
   "metadata": {
    "execution": {
     "iopub.execute_input": "2020-12-22T08:05:08.018604Z",
     "iopub.status.busy": "2020-12-22T08:05:08.012874Z",
     "iopub.status.idle": "2020-12-22T08:05:08.305743Z",
     "shell.execute_reply": "2020-12-22T08:05:08.304896Z"
    },
    "papermill": {
     "duration": 0.354447,
     "end_time": "2020-12-22T08:05:08.305855",
     "exception": false,
     "start_time": "2020-12-22T08:05:07.951408",
     "status": "completed"
    },
    "tags": []
   },
   "outputs": [],
   "source": [
    "urldata['count-www'] = urldata['url'].apply(lambda i: i.count('www'))"
   ]
  },
  {
   "cell_type": "code",
   "execution_count": 24,
   "metadata": {
    "execution": {
     "iopub.execute_input": "2020-12-22T08:05:08.424496Z",
     "iopub.status.busy": "2020-12-22T08:05:08.423792Z",
     "iopub.status.idle": "2020-12-22T08:05:11.300211Z",
     "shell.execute_reply": "2020-12-22T08:05:11.299550Z"
    },
    "papermill": {
     "duration": 2.943505,
     "end_time": "2020-12-22T08:05:11.300430",
     "exception": false,
     "start_time": "2020-12-22T08:05:08.356925",
     "status": "completed"
    },
    "tags": []
   },
   "outputs": [],
   "source": [
    "def digit_count(url):\n",
    "    digits = 0\n",
    "    for i in url:\n",
    "        if i.isnumeric():\n",
    "            digits = digits + 1\n",
    "    return digits\n",
    "urldata['count-digits']= urldata['url'].apply(lambda i: digit_count(i))"
   ]
  },
  {
   "cell_type": "code",
   "execution_count": 25,
   "metadata": {
    "execution": {
     "iopub.execute_input": "2020-12-22T08:05:11.436376Z",
     "iopub.status.busy": "2020-12-22T08:05:11.435332Z",
     "iopub.status.idle": "2020-12-22T08:05:15.056144Z",
     "shell.execute_reply": "2020-12-22T08:05:15.055570Z"
    },
    "papermill": {
     "duration": 3.685557,
     "end_time": "2020-12-22T08:05:15.056287",
     "exception": false,
     "start_time": "2020-12-22T08:05:11.370730",
     "status": "completed"
    },
    "tags": []
   },
   "outputs": [],
   "source": [
    "def letter_count(url):\n",
    "    letters = 0\n",
    "    for i in url:\n",
    "        if i.isalpha():\n",
    "            letters = letters + 1\n",
    "    return letters\n",
    "urldata['count-letters']= urldata['url'].apply(lambda i: letter_count(i))"
   ]
  },
  {
   "cell_type": "code",
   "execution_count": 26,
   "metadata": {
    "execution": {
     "iopub.execute_input": "2020-12-22T08:05:15.178736Z",
     "iopub.status.busy": "2020-12-22T08:05:15.177766Z",
     "iopub.status.idle": "2020-12-22T08:05:19.396491Z",
     "shell.execute_reply": "2020-12-22T08:05:19.395874Z"
    },
    "papermill": {
     "duration": 4.289633,
     "end_time": "2020-12-22T08:05:19.396613",
     "exception": false,
     "start_time": "2020-12-22T08:05:15.106980",
     "status": "completed"
    },
    "tags": []
   },
   "outputs": [],
   "source": [
    "def no_of_dir(url):\n",
    "    urldir = urlparse(url).path\n",
    "    return urldir.count('/')\n",
    "urldata['count_dir'] = urldata['url'].apply(lambda i: no_of_dir(i))"
   ]
  },
  {
   "cell_type": "markdown",
   "metadata": {
    "papermill": {
     "duration": 0.049372,
     "end_time": "2020-12-22T08:05:19.496822",
     "exception": false,
     "start_time": "2020-12-22T08:05:19.447450",
     "status": "completed"
    },
    "tags": []
   },
   "source": [
    "Data after extracting Count Features"
   ]
  },
  {
   "cell_type": "code",
   "execution_count": 27,
   "metadata": {
    "execution": {
     "iopub.execute_input": "2020-12-22T08:05:19.616449Z",
     "iopub.status.busy": "2020-12-22T08:05:19.608419Z",
     "iopub.status.idle": "2020-12-22T08:05:19.622333Z",
     "shell.execute_reply": "2020-12-22T08:05:19.622828Z"
    },
    "papermill": {
     "duration": 0.076181,
     "end_time": "2020-12-22T08:05:19.622968",
     "exception": false,
     "start_time": "2020-12-22T08:05:19.546787",
     "status": "completed"
    },
    "tags": []
   },
   "outputs": [
    {
     "data": {
      "text/html": [
       "<div>\n",
       "<style scoped>\n",
       "    .dataframe tbody tr th:only-of-type {\n",
       "        vertical-align: middle;\n",
       "    }\n",
       "\n",
       "    .dataframe tbody tr th {\n",
       "        vertical-align: top;\n",
       "    }\n",
       "\n",
       "    .dataframe thead th {\n",
       "        text-align: right;\n",
       "    }\n",
       "</style>\n",
       "<table border=\"1\" class=\"dataframe\">\n",
       "  <thead>\n",
       "    <tr style=\"text-align: right;\">\n",
       "      <th></th>\n",
       "      <th>url</th>\n",
       "      <th>label</th>\n",
       "      <th>result</th>\n",
       "      <th>url_length</th>\n",
       "      <th>hostname_length</th>\n",
       "      <th>path_length</th>\n",
       "      <th>fd_length</th>\n",
       "      <th>count-</th>\n",
       "      <th>count@</th>\n",
       "      <th>count?</th>\n",
       "      <th>count%</th>\n",
       "      <th>count.</th>\n",
       "      <th>count=</th>\n",
       "      <th>count-http</th>\n",
       "      <th>count-https</th>\n",
       "      <th>count-www</th>\n",
       "      <th>count-digits</th>\n",
       "      <th>count-letters</th>\n",
       "      <th>count_dir</th>\n",
       "    </tr>\n",
       "  </thead>\n",
       "  <tbody>\n",
       "    <tr>\n",
       "      <th>0</th>\n",
       "      <td>https://www.google.com</td>\n",
       "      <td>benign</td>\n",
       "      <td>0</td>\n",
       "      <td>22</td>\n",
       "      <td>14</td>\n",
       "      <td>0</td>\n",
       "      <td>0</td>\n",
       "      <td>0</td>\n",
       "      <td>0</td>\n",
       "      <td>0</td>\n",
       "      <td>0</td>\n",
       "      <td>2</td>\n",
       "      <td>0</td>\n",
       "      <td>1</td>\n",
       "      <td>1</td>\n",
       "      <td>1</td>\n",
       "      <td>0</td>\n",
       "      <td>17</td>\n",
       "      <td>0</td>\n",
       "    </tr>\n",
       "    <tr>\n",
       "      <th>1</th>\n",
       "      <td>https://www.youtube.com</td>\n",
       "      <td>benign</td>\n",
       "      <td>0</td>\n",
       "      <td>23</td>\n",
       "      <td>15</td>\n",
       "      <td>0</td>\n",
       "      <td>0</td>\n",
       "      <td>0</td>\n",
       "      <td>0</td>\n",
       "      <td>0</td>\n",
       "      <td>0</td>\n",
       "      <td>2</td>\n",
       "      <td>0</td>\n",
       "      <td>1</td>\n",
       "      <td>1</td>\n",
       "      <td>1</td>\n",
       "      <td>0</td>\n",
       "      <td>18</td>\n",
       "      <td>0</td>\n",
       "    </tr>\n",
       "    <tr>\n",
       "      <th>2</th>\n",
       "      <td>https://www.facebook.com</td>\n",
       "      <td>benign</td>\n",
       "      <td>0</td>\n",
       "      <td>24</td>\n",
       "      <td>16</td>\n",
       "      <td>0</td>\n",
       "      <td>0</td>\n",
       "      <td>0</td>\n",
       "      <td>0</td>\n",
       "      <td>0</td>\n",
       "      <td>0</td>\n",
       "      <td>2</td>\n",
       "      <td>0</td>\n",
       "      <td>1</td>\n",
       "      <td>1</td>\n",
       "      <td>1</td>\n",
       "      <td>0</td>\n",
       "      <td>19</td>\n",
       "      <td>0</td>\n",
       "    </tr>\n",
       "    <tr>\n",
       "      <th>3</th>\n",
       "      <td>https://www.baidu.com</td>\n",
       "      <td>benign</td>\n",
       "      <td>0</td>\n",
       "      <td>21</td>\n",
       "      <td>13</td>\n",
       "      <td>0</td>\n",
       "      <td>0</td>\n",
       "      <td>0</td>\n",
       "      <td>0</td>\n",
       "      <td>0</td>\n",
       "      <td>0</td>\n",
       "      <td>2</td>\n",
       "      <td>0</td>\n",
       "      <td>1</td>\n",
       "      <td>1</td>\n",
       "      <td>1</td>\n",
       "      <td>0</td>\n",
       "      <td>16</td>\n",
       "      <td>0</td>\n",
       "    </tr>\n",
       "    <tr>\n",
       "      <th>4</th>\n",
       "      <td>https://www.wikipedia.org</td>\n",
       "      <td>benign</td>\n",
       "      <td>0</td>\n",
       "      <td>25</td>\n",
       "      <td>17</td>\n",
       "      <td>0</td>\n",
       "      <td>0</td>\n",
       "      <td>0</td>\n",
       "      <td>0</td>\n",
       "      <td>0</td>\n",
       "      <td>0</td>\n",
       "      <td>2</td>\n",
       "      <td>0</td>\n",
       "      <td>1</td>\n",
       "      <td>1</td>\n",
       "      <td>1</td>\n",
       "      <td>0</td>\n",
       "      <td>20</td>\n",
       "      <td>0</td>\n",
       "    </tr>\n",
       "  </tbody>\n",
       "</table>\n",
       "</div>"
      ],
      "text/plain": [
       "                         url   label  result  url_length  hostname_length  \\\n",
       "0     https://www.google.com  benign       0          22               14   \n",
       "1    https://www.youtube.com  benign       0          23               15   \n",
       "2   https://www.facebook.com  benign       0          24               16   \n",
       "3      https://www.baidu.com  benign       0          21               13   \n",
       "4  https://www.wikipedia.org  benign       0          25               17   \n",
       "\n",
       "   path_length  fd_length  count-  count@  count?  count%  count.  count=  \\\n",
       "0            0          0       0       0       0       0       2       0   \n",
       "1            0          0       0       0       0       0       2       0   \n",
       "2            0          0       0       0       0       0       2       0   \n",
       "3            0          0       0       0       0       0       2       0   \n",
       "4            0          0       0       0       0       0       2       0   \n",
       "\n",
       "   count-http  count-https  count-www  count-digits  count-letters  count_dir  \n",
       "0           1            1          1             0             17          0  \n",
       "1           1            1          1             0             18          0  \n",
       "2           1            1          1             0             19          0  \n",
       "3           1            1          1             0             16          0  \n",
       "4           1            1          1             0             20          0  "
      ]
     },
     "execution_count": 27,
     "metadata": {},
     "output_type": "execute_result"
    }
   ],
   "source": [
    "urldata.head()"
   ]
  },
  {
   "cell_type": "markdown",
   "metadata": {
    "papermill": {
     "duration": 0.049994,
     "end_time": "2020-12-22T08:05:19.724454",
     "exception": false,
     "start_time": "2020-12-22T08:05:19.674460",
     "status": "completed"
    },
    "tags": []
   },
   "source": [
    "### 1.3 Binary Features"
   ]
  },
  {
   "cell_type": "code",
   "execution_count": 28,
   "metadata": {
    "execution": {
     "iopub.execute_input": "2020-12-22T08:05:19.830874Z",
     "iopub.status.busy": "2020-12-22T08:05:19.830192Z",
     "iopub.status.idle": "2020-12-22T08:05:19.834986Z",
     "shell.execute_reply": "2020-12-22T08:05:19.835481Z"
    },
    "papermill": {
     "duration": 0.060743,
     "end_time": "2020-12-22T08:05:19.835636",
     "exception": false,
     "start_time": "2020-12-22T08:05:19.774893",
     "status": "completed"
    },
    "tags": []
   },
   "outputs": [],
   "source": [
    "import re"
   ]
  },
  {
   "cell_type": "code",
   "execution_count": 29,
   "metadata": {
    "execution": {
     "iopub.execute_input": "2020-12-22T08:05:19.940498Z",
     "iopub.status.busy": "2020-12-22T08:05:19.939876Z",
     "iopub.status.idle": "2020-12-22T08:05:24.680816Z",
     "shell.execute_reply": "2020-12-22T08:05:24.680217Z"
    },
    "papermill": {
     "duration": 4.794877,
     "end_time": "2020-12-22T08:05:24.680941",
     "exception": false,
     "start_time": "2020-12-22T08:05:19.886064",
     "status": "completed"
    },
    "tags": []
   },
   "outputs": [],
   "source": [
    "#Use of IP or not in domain\n",
    "def having_ip_address(url):\n",
    "    match = re.search(\n",
    "        '(([01]?\\\\d\\\\d?|2[0-4]\\\\d|25[0-5])\\\\.([01]?\\\\d\\\\d?|2[0-4]\\\\d|25[0-5])\\\\.([01]?\\\\d\\\\d?|2[0-4]\\\\d|25[0-5])\\\\.'\n",
    "        '([01]?\\\\d\\\\d?|2[0-4]\\\\d|25[0-5])\\\\/)|'  # IPv4\n",
    "        '((0x[0-9a-fA-F]{1,2})\\\\.(0x[0-9a-fA-F]{1,2})\\\\.(0x[0-9a-fA-F]{1,2})\\\\.(0x[0-9a-fA-F]{1,2})\\\\/)' # IPv4 in hexadecimal\n",
    "        '(?:[a-fA-F0-9]{1,4}:){7}[a-fA-F0-9]{1,4}', url)  # Ipv6\n",
    "    if match:\n",
    "        # print match.group()\n",
    "        return -1\n",
    "    else:\n",
    "        # print 'No matching pattern found'\n",
    "        return 1\n",
    "urldata['use_of_ip'] = urldata['url'].apply(lambda i: having_ip_address(i))"
   ]
  },
  {
   "cell_type": "code",
   "execution_count": 30,
   "metadata": {
    "execution": {
     "iopub.execute_input": "2020-12-22T08:05:24.804204Z",
     "iopub.status.busy": "2020-12-22T08:05:24.803503Z",
     "iopub.status.idle": "2020-12-22T08:05:33.353297Z",
     "shell.execute_reply": "2020-12-22T08:05:33.353846Z"
    },
    "papermill": {
     "duration": 8.618695,
     "end_time": "2020-12-22T08:05:33.353987",
     "exception": false,
     "start_time": "2020-12-22T08:05:24.735292",
     "status": "completed"
    },
    "tags": []
   },
   "outputs": [],
   "source": [
    "def shortening_service(url):\n",
    "    match = re.search('bit\\.ly|goo\\.gl|shorte\\.st|go2l\\.ink|x\\.co|ow\\.ly|t\\.co|tinyurl|tr\\.im|is\\.gd|cli\\.gs|'\n",
    "                      'yfrog\\.com|migre\\.me|ff\\.im|tiny\\.cc|url4\\.eu|twit\\.ac|su\\.pr|twurl\\.nl|snipurl\\.com|'\n",
    "                      'short\\.to|BudURL\\.com|ping\\.fm|post\\.ly|Just\\.as|bkite\\.com|snipr\\.com|fic\\.kr|loopt\\.us|'\n",
    "                      'doiop\\.com|short\\.ie|kl\\.am|wp\\.me|rubyurl\\.com|om\\.ly|to\\.ly|bit\\.do|t\\.co|lnkd\\.in|'\n",
    "                      'db\\.tt|qr\\.ae|adf\\.ly|goo\\.gl|bitly\\.com|cur\\.lv|tinyurl\\.com|ow\\.ly|bit\\.ly|ity\\.im|'\n",
    "                      'q\\.gs|is\\.gd|po\\.st|bc\\.vc|twitthis\\.com|u\\.to|j\\.mp|buzurl\\.com|cutt\\.us|u\\.bb|yourls\\.org|'\n",
    "                      'x\\.co|prettylinkpro\\.com|scrnch\\.me|filoops\\.info|vzturl\\.com|qr\\.net|1url\\.com|tweez\\.me|v\\.gd|'\n",
    "                      'tr\\.im|link\\.zip\\.net',\n",
    "                      url)\n",
    "    if match:\n",
    "        return -1\n",
    "    else:\n",
    "        return 1\n",
    "urldata['short_url'] = urldata['url'].apply(lambda i: shortening_service(i))"
   ]
  },
  {
   "cell_type": "markdown",
   "metadata": {
    "papermill": {
     "duration": 0.051621,
     "end_time": "2020-12-22T08:05:33.460541",
     "exception": false,
     "start_time": "2020-12-22T08:05:33.408920",
     "status": "completed"
    },
    "tags": []
   },
   "source": [
    "Data after extracting Binary Features"
   ]
  },
  {
   "cell_type": "code",
   "execution_count": 31,
   "metadata": {
    "execution": {
     "iopub.execute_input": "2020-12-22T08:05:33.591696Z",
     "iopub.status.busy": "2020-12-22T08:05:33.578354Z",
     "iopub.status.idle": "2020-12-22T08:05:33.597628Z",
     "shell.execute_reply": "2020-12-22T08:05:33.596998Z"
    },
    "papermill": {
     "duration": 0.085725,
     "end_time": "2020-12-22T08:05:33.597736",
     "exception": false,
     "start_time": "2020-12-22T08:05:33.512011",
     "status": "completed"
    },
    "tags": []
   },
   "outputs": [
    {
     "data": {
      "text/html": [
       "<div>\n",
       "<style scoped>\n",
       "    .dataframe tbody tr th:only-of-type {\n",
       "        vertical-align: middle;\n",
       "    }\n",
       "\n",
       "    .dataframe tbody tr th {\n",
       "        vertical-align: top;\n",
       "    }\n",
       "\n",
       "    .dataframe thead th {\n",
       "        text-align: right;\n",
       "    }\n",
       "</style>\n",
       "<table border=\"1\" class=\"dataframe\">\n",
       "  <thead>\n",
       "    <tr style=\"text-align: right;\">\n",
       "      <th></th>\n",
       "      <th>url</th>\n",
       "      <th>label</th>\n",
       "      <th>result</th>\n",
       "      <th>url_length</th>\n",
       "      <th>hostname_length</th>\n",
       "      <th>path_length</th>\n",
       "      <th>fd_length</th>\n",
       "      <th>count-</th>\n",
       "      <th>count@</th>\n",
       "      <th>count?</th>\n",
       "      <th>...</th>\n",
       "      <th>count.</th>\n",
       "      <th>count=</th>\n",
       "      <th>count-http</th>\n",
       "      <th>count-https</th>\n",
       "      <th>count-www</th>\n",
       "      <th>count-digits</th>\n",
       "      <th>count-letters</th>\n",
       "      <th>count_dir</th>\n",
       "      <th>use_of_ip</th>\n",
       "      <th>short_url</th>\n",
       "    </tr>\n",
       "  </thead>\n",
       "  <tbody>\n",
       "    <tr>\n",
       "      <th>0</th>\n",
       "      <td>https://www.google.com</td>\n",
       "      <td>benign</td>\n",
       "      <td>0</td>\n",
       "      <td>22</td>\n",
       "      <td>14</td>\n",
       "      <td>0</td>\n",
       "      <td>0</td>\n",
       "      <td>0</td>\n",
       "      <td>0</td>\n",
       "      <td>0</td>\n",
       "      <td>...</td>\n",
       "      <td>2</td>\n",
       "      <td>0</td>\n",
       "      <td>1</td>\n",
       "      <td>1</td>\n",
       "      <td>1</td>\n",
       "      <td>0</td>\n",
       "      <td>17</td>\n",
       "      <td>0</td>\n",
       "      <td>1</td>\n",
       "      <td>1</td>\n",
       "    </tr>\n",
       "    <tr>\n",
       "      <th>1</th>\n",
       "      <td>https://www.youtube.com</td>\n",
       "      <td>benign</td>\n",
       "      <td>0</td>\n",
       "      <td>23</td>\n",
       "      <td>15</td>\n",
       "      <td>0</td>\n",
       "      <td>0</td>\n",
       "      <td>0</td>\n",
       "      <td>0</td>\n",
       "      <td>0</td>\n",
       "      <td>...</td>\n",
       "      <td>2</td>\n",
       "      <td>0</td>\n",
       "      <td>1</td>\n",
       "      <td>1</td>\n",
       "      <td>1</td>\n",
       "      <td>0</td>\n",
       "      <td>18</td>\n",
       "      <td>0</td>\n",
       "      <td>1</td>\n",
       "      <td>1</td>\n",
       "    </tr>\n",
       "    <tr>\n",
       "      <th>2</th>\n",
       "      <td>https://www.facebook.com</td>\n",
       "      <td>benign</td>\n",
       "      <td>0</td>\n",
       "      <td>24</td>\n",
       "      <td>16</td>\n",
       "      <td>0</td>\n",
       "      <td>0</td>\n",
       "      <td>0</td>\n",
       "      <td>0</td>\n",
       "      <td>0</td>\n",
       "      <td>...</td>\n",
       "      <td>2</td>\n",
       "      <td>0</td>\n",
       "      <td>1</td>\n",
       "      <td>1</td>\n",
       "      <td>1</td>\n",
       "      <td>0</td>\n",
       "      <td>19</td>\n",
       "      <td>0</td>\n",
       "      <td>1</td>\n",
       "      <td>1</td>\n",
       "    </tr>\n",
       "    <tr>\n",
       "      <th>3</th>\n",
       "      <td>https://www.baidu.com</td>\n",
       "      <td>benign</td>\n",
       "      <td>0</td>\n",
       "      <td>21</td>\n",
       "      <td>13</td>\n",
       "      <td>0</td>\n",
       "      <td>0</td>\n",
       "      <td>0</td>\n",
       "      <td>0</td>\n",
       "      <td>0</td>\n",
       "      <td>...</td>\n",
       "      <td>2</td>\n",
       "      <td>0</td>\n",
       "      <td>1</td>\n",
       "      <td>1</td>\n",
       "      <td>1</td>\n",
       "      <td>0</td>\n",
       "      <td>16</td>\n",
       "      <td>0</td>\n",
       "      <td>1</td>\n",
       "      <td>1</td>\n",
       "    </tr>\n",
       "    <tr>\n",
       "      <th>4</th>\n",
       "      <td>https://www.wikipedia.org</td>\n",
       "      <td>benign</td>\n",
       "      <td>0</td>\n",
       "      <td>25</td>\n",
       "      <td>17</td>\n",
       "      <td>0</td>\n",
       "      <td>0</td>\n",
       "      <td>0</td>\n",
       "      <td>0</td>\n",
       "      <td>0</td>\n",
       "      <td>...</td>\n",
       "      <td>2</td>\n",
       "      <td>0</td>\n",
       "      <td>1</td>\n",
       "      <td>1</td>\n",
       "      <td>1</td>\n",
       "      <td>0</td>\n",
       "      <td>20</td>\n",
       "      <td>0</td>\n",
       "      <td>1</td>\n",
       "      <td>1</td>\n",
       "    </tr>\n",
       "  </tbody>\n",
       "</table>\n",
       "<p>5 rows × 21 columns</p>\n",
       "</div>"
      ],
      "text/plain": [
       "                         url   label  result  url_length  hostname_length  \\\n",
       "0     https://www.google.com  benign       0          22               14   \n",
       "1    https://www.youtube.com  benign       0          23               15   \n",
       "2   https://www.facebook.com  benign       0          24               16   \n",
       "3      https://www.baidu.com  benign       0          21               13   \n",
       "4  https://www.wikipedia.org  benign       0          25               17   \n",
       "\n",
       "   path_length  fd_length  count-  count@  count?  ...  count.  count=  \\\n",
       "0            0          0       0       0       0  ...       2       0   \n",
       "1            0          0       0       0       0  ...       2       0   \n",
       "2            0          0       0       0       0  ...       2       0   \n",
       "3            0          0       0       0       0  ...       2       0   \n",
       "4            0          0       0       0       0  ...       2       0   \n",
       "\n",
       "   count-http  count-https  count-www  count-digits  count-letters  count_dir  \\\n",
       "0           1            1          1             0             17          0   \n",
       "1           1            1          1             0             18          0   \n",
       "2           1            1          1             0             19          0   \n",
       "3           1            1          1             0             16          0   \n",
       "4           1            1          1             0             20          0   \n",
       "\n",
       "   use_of_ip  short_url  \n",
       "0          1          1  \n",
       "1          1          1  \n",
       "2          1          1  \n",
       "3          1          1  \n",
       "4          1          1  \n",
       "\n",
       "[5 rows x 21 columns]"
      ]
     },
     "execution_count": 31,
     "metadata": {},
     "output_type": "execute_result"
    }
   ],
   "source": [
    "urldata.head()"
   ]
  },
  {
   "cell_type": "markdown",
   "metadata": {
    "papermill": {
     "duration": 0.053102,
     "end_time": "2020-12-22T08:05:33.703664",
     "exception": false,
     "start_time": "2020-12-22T08:05:33.650562",
     "status": "completed"
    },
    "tags": []
   },
   "source": [
    "# 2. Data Visualization"
   ]
  },
  {
   "cell_type": "code",
   "execution_count": 32,
   "metadata": {
    "execution": {
     "iopub.execute_input": "2020-12-22T08:05:33.816921Z",
     "iopub.status.busy": "2020-12-22T08:05:33.816299Z",
     "iopub.status.idle": "2020-12-22T08:05:35.741155Z",
     "shell.execute_reply": "2020-12-22T08:05:35.741822Z"
    },
    "papermill": {
     "duration": 1.985782,
     "end_time": "2020-12-22T08:05:35.741968",
     "exception": false,
     "start_time": "2020-12-22T08:05:33.756186",
     "status": "completed"
    },
    "tags": []
   },
   "outputs": [
    {
     "data": {
      "text/plain": [
       "<matplotlib.axes._subplots.AxesSubplot at 0x7f742862c390>"
      ]
     },
     "execution_count": 32,
     "metadata": {},
     "output_type": "execute_result"
    },
    {
     "data": {
      "image/png": "[encoded data removed]",
      "text/plain": [
       "<Figure size 1800x1368 with 2 Axes>"
      ]
     },
     "metadata": {
      "needs_background": "light"
     },
     "output_type": "display_data"
    }
   ],
   "source": [
    "#Heatmap\n",
    "corrmat = urldata.corr()\n",
    "f, ax = plt.subplots(figsize=(25,19))\n",
    "sns.heatmap(corrmat, square=True, annot = True, annot_kws={'size':10})"
   ]
  },
  {
   "cell_type": "code",
   "execution_count": 33,
   "metadata": {
    "execution": {
     "iopub.execute_input": "2020-12-22T08:05:35.893000Z",
     "iopub.status.busy": "2020-12-22T08:05:35.882503Z",
     "iopub.status.idle": "2020-12-22T08:05:36.240063Z",
     "shell.execute_reply": "2020-12-22T08:05:36.238299Z"
    },
    "papermill": {
     "duration": 0.437319,
     "end_time": "2020-12-22T08:05:36.240263",
     "exception": false,
     "start_time": "2020-12-22T08:05:35.802944",
     "status": "completed"
    },
    "tags": []
   },
   "outputs": [
    {
     "data": {
      "text/plain": [
       "Text(0, 0.5, 'Number Of URLs')"
      ]
     },
     "execution_count": 33,
     "metadata": {},
     "output_type": "execute_result"
    },
    {
     "data": {
      "image/png": "[encoded data removed]",
      "text/plain": [
       "<Figure size 1080x360 with 1 Axes>"
      ]
     },
     "metadata": {
      "needs_background": "light"
     },
     "output_type": "display_data"
    }
   ],
   "source": [
    "plt.figure(figsize=(15,5))\n",
    "sns.countplot(x='label',data=urldata)\n",
    "plt.title(\"Count Of URLs\",fontsize=20)\n",
    "plt.xlabel(\"Type Of URLs\",fontsize=18)\n",
    "plt.ylabel(\"Number Of URLs\",fontsize=18)"
   ]
  },
  {
   "cell_type": "code",
   "execution_count": 34,
   "metadata": {
    "execution": {
     "iopub.execute_input": "2020-12-22T08:05:36.462814Z",
     "iopub.status.busy": "2020-12-22T08:05:36.461623Z",
     "iopub.status.idle": "2020-12-22T08:05:36.574119Z",
     "shell.execute_reply": "2020-12-22T08:05:36.573311Z"
    },
    "papermill": {
     "duration": 0.244328,
     "end_time": "2020-12-22T08:05:36.574291",
     "exception": false,
     "start_time": "2020-12-22T08:05:36.329963",
     "status": "completed"
    },
    "tags": []
   },
   "outputs": [
    {
     "name": "stdout",
     "output_type": "stream",
     "text": [
      "Percent Of Malicious URLs:23.20 %\n",
      "Percent Of Benign URLs:76.80 %\n"
     ]
    }
   ],
   "source": [
    "print(\"Percent Of Malicious URLs:{:.2f} %\".format(len(urldata[urldata['label']=='malicious'])/len(urldata['label'])*100))\n",
    "print(\"Percent Of Benign URLs:{:.2f} %\".format(len(urldata[urldata['label']=='benign'])/len(urldata['label'])*100))"
   ]
  },
  {
   "cell_type": "markdown",
   "metadata": {
    "papermill": {
     "duration": 0.063824,
     "end_time": "2020-12-22T08:05:36.700689",
     "exception": false,
     "start_time": "2020-12-22T08:05:36.636865",
     "status": "completed"
    },
    "tags": []
   },
   "source": [
    "The data shows a class imbalance to some extent."
   ]
  },
  {
   "cell_type": "code",
   "execution_count": 35,
   "metadata": {
    "execution": {
     "iopub.execute_input": "2020-12-22T08:05:36.849925Z",
     "iopub.status.busy": "2020-12-22T08:05:36.830859Z",
     "iopub.status.idle": "2020-12-22T08:05:37.111125Z",
     "shell.execute_reply": "2020-12-22T08:05:37.110552Z"
    },
    "papermill": {
     "duration": 0.350628,
     "end_time": "2020-12-22T08:05:37.111259",
     "exception": false,
     "start_time": "2020-12-22T08:05:36.760631",
     "status": "completed"
    },
    "tags": []
   },
   "outputs": [
    {
     "data": {
      "text/plain": [
       "(0.0, 1000.0)"
      ]
     },
     "execution_count": 35,
     "metadata": {},
     "output_type": "execute_result"
    },
    {
     "data": {
      "image/png": "[encoded data removed]",
      "text/plain": [
       "<Figure size 1440x360 with 1 Axes>"
      ]
     },
     "metadata": {
      "needs_background": "light"
     },
     "output_type": "display_data"
    }
   ],
   "source": [
    "plt.figure(figsize=(20,5))\n",
    "plt.hist(urldata['url_length'],bins=50,color='LightBlue')\n",
    "plt.title(\"URL-Length\",fontsize=20)\n",
    "plt.xlabel(\"Url-Length\",fontsize=18)\n",
    "plt.ylabel(\"Number Of Urls\",fontsize=18)\n",
    "plt.ylim(0,1000)\n"
   ]
  },
  {
   "cell_type": "code",
   "execution_count": 36,
   "metadata": {
    "execution": {
     "iopub.execute_input": "2020-12-22T08:05:37.257917Z",
     "iopub.status.busy": "2020-12-22T08:05:37.253812Z",
     "iopub.status.idle": "2020-12-22T08:05:37.513890Z",
     "shell.execute_reply": "2020-12-22T08:05:37.512992Z"
    },
    "papermill": {
     "duration": 0.341653,
     "end_time": "2020-12-22T08:05:37.514038",
     "exception": false,
     "start_time": "2020-12-22T08:05:37.172385",
     "status": "completed"
    },
    "tags": []
   },
   "outputs": [
    {
     "data": {
      "text/plain": [
       "(0.0, 1000.0)"
      ]
     },
     "execution_count": 36,
     "metadata": {},
     "output_type": "execute_result"
    },
    {
     "data": {
      "image/png": "[encoded data removed]",
      "text/plain": [
       "<Figure size 1440x360 with 1 Axes>"
      ]
     },
     "metadata": {
      "needs_background": "light"
     },
     "output_type": "display_data"
    }
   ],
   "source": [
    "plt.figure(figsize=(20,5))\n",
    "plt.hist(urldata['hostname_length'],bins=50,color='Lightgreen')\n",
    "plt.title(\"Hostname-Length\",fontsize=20)\n",
    "plt.xlabel(\"Length Of Hostname\",fontsize=18)\n",
    "plt.ylabel(\"Number Of Urls\",fontsize=18)\n",
    "plt.ylim(0,1000)"
   ]
  },
  {
   "cell_type": "code",
   "execution_count": 37,
   "metadata": {
    "execution": {
     "iopub.execute_input": "2020-12-22T08:05:37.716454Z",
     "iopub.status.busy": "2020-12-22T08:05:37.710032Z",
     "iopub.status.idle": "2020-12-22T08:05:38.016691Z",
     "shell.execute_reply": "2020-12-22T08:05:38.016016Z"
    },
    "papermill": {
     "duration": 0.407317,
     "end_time": "2020-12-22T08:05:38.016799",
     "exception": false,
     "start_time": "2020-12-22T08:05:37.609482",
     "status": "completed"
    },
    "tags": []
   },
   "outputs": [
    {
     "data": {
      "text/plain": [
       "Text(0, 0.5, 'Number Of URLs')"
      ]
     },
     "execution_count": 37,
     "metadata": {},
     "output_type": "execute_result"
    },
    {
     "data": {
      "image/png": "[encoded data removed]",
      "text/plain": [
       "<Figure size 1080x360 with 1 Axes>"
      ]
     },
     "metadata": {
      "needs_background": "light"
     },
     "output_type": "display_data"
    }
   ],
   "source": [
    "plt.figure(figsize=(15,5))\n",
    "plt.title(\"Number Of Directories In Url\",fontsize=20)\n",
    "sns.countplot(x='count_dir',data=urldata)\n",
    "plt.xlabel(\"Number Of Directories\",fontsize=18)\n",
    "plt.ylabel(\"Number Of URLs\",fontsize=18)"
   ]
  },
  {
   "cell_type": "code",
   "execution_count": 38,
   "metadata": {
    "execution": {
     "iopub.execute_input": "2020-12-22T08:05:38.182348Z",
     "iopub.status.busy": "2020-12-22T08:05:38.178514Z",
     "iopub.status.idle": "2020-12-22T08:05:38.945890Z",
     "shell.execute_reply": "2020-12-22T08:05:38.945089Z"
    },
    "papermill": {
     "duration": 0.858188,
     "end_time": "2020-12-22T08:05:38.946009",
     "exception": false,
     "start_time": "2020-12-22T08:05:38.087821",
     "status": "completed"
    },
    "tags": []
   },
   "outputs": [
    {
     "data": {
      "text/plain": [
       "Text(0, 0.5, 'Number Of URLs')"
      ]
     },
     "execution_count": 38,
     "metadata": {},
     "output_type": "execute_result"
    },
    {
     "data": {
      "image/png": "[encoded data removed]",
      "text/plain": [
       "<Figure size 1080x360 with 1 Axes>"
      ]
     },
     "metadata": {
      "needs_background": "light"
     },
     "output_type": "display_data"
    }
   ],
   "source": [
    "plt.figure(figsize=(15,5))\n",
    "plt.title(\"Number Of Directories In Url\",fontsize=20)\n",
    "sns.countplot(x='count_dir',data=urldata,hue='label')\n",
    "plt.xlabel(\"Number Of Directories\",fontsize=18)\n",
    "plt.ylabel(\"Number Of URLs\",fontsize=18)"
   ]
  },
  {
   "cell_type": "code",
   "execution_count": 39,
   "metadata": {
    "execution": {
     "iopub.execute_input": "2020-12-22T08:05:39.108464Z",
     "iopub.status.busy": "2020-12-22T08:05:39.107724Z",
     "iopub.status.idle": "2020-12-22T08:05:39.239041Z",
     "shell.execute_reply": "2020-12-22T08:05:39.238356Z"
    },
    "papermill": {
     "duration": 0.223131,
     "end_time": "2020-12-22T08:05:39.239154",
     "exception": false,
     "start_time": "2020-12-22T08:05:39.016023",
     "status": "completed"
    },
    "tags": []
   },
   "outputs": [
    {
     "data": {
      "text/plain": [
       "Text(0, 0.5, 'Number of URLs')"
      ]
     },
     "execution_count": 39,
     "metadata": {},
     "output_type": "execute_result"
    },
    {
     "data": {
      "image/png": "[encoded data removed]",
      "text/plain": [
       "<Figure size 1080x360 with 1 Axes>"
      ]
     },
     "metadata": {
      "needs_background": "light"
     },
     "output_type": "display_data"
    }
   ],
   "source": [
    "plt.figure(figsize=(15,5))\n",
    "plt.title(\"Use Of IP In Url\",fontsize=20)\n",
    "plt.xlabel(\"Use Of IP\",fontsize=18)\n",
    "\n",
    "sns.countplot(urldata['use_of_ip'])\n",
    "plt.ylabel(\"Number of URLs\",fontsize=18)"
   ]
  },
  {
   "cell_type": "code",
   "execution_count": 40,
   "metadata": {
    "execution": {
     "iopub.execute_input": "2020-12-22T08:05:39.382220Z",
     "iopub.status.busy": "2020-12-22T08:05:39.381439Z",
     "iopub.status.idle": "2020-12-22T08:05:39.836640Z",
     "shell.execute_reply": "2020-12-22T08:05:39.835990Z"
    },
    "papermill": {
     "duration": 0.529871,
     "end_time": "2020-12-22T08:05:39.836755",
     "exception": false,
     "start_time": "2020-12-22T08:05:39.306884",
     "status": "completed"
    },
    "tags": []
   },
   "outputs": [
    {
     "data": {
      "text/plain": [
       "Text(0, 0.5, 'Number of URLs')"
      ]
     },
     "execution_count": 40,
     "metadata": {},
     "output_type": "execute_result"
    },
    {
     "data": {
      "image/png": "[encoded data removed]",
      "text/plain": [
       "<Figure size 1080x360 with 1 Axes>"
      ]
     },
     "metadata": {
      "needs_background": "light"
     },
     "output_type": "display_data"
    }
   ],
   "source": [
    "plt.figure(figsize=(15,5))\n",
    "plt.title(\"Use Of IP In Url\",fontsize=20)\n",
    "plt.xlabel(\"Use Of IP\",fontsize=18)\n",
    "plt.ylabel(\"Number of URLs\",fontsize=18)\n",
    "sns.countplot(urldata['use_of_ip'],hue='label',data=urldata)\n",
    "plt.ylabel(\"Number of URLs\",fontsize=18)"
   ]
  },
  {
   "cell_type": "code",
   "execution_count": 41,
   "metadata": {
    "execution": {
     "iopub.execute_input": "2020-12-22T08:05:39.996685Z",
     "iopub.status.busy": "2020-12-22T08:05:39.980961Z",
     "iopub.status.idle": "2020-12-22T08:05:40.177743Z",
     "shell.execute_reply": "2020-12-22T08:05:40.176964Z"
    },
    "papermill": {
     "duration": 0.271391,
     "end_time": "2020-12-22T08:05:40.177876",
     "exception": false,
     "start_time": "2020-12-22T08:05:39.906485",
     "status": "completed"
    },
    "tags": []
   },
   "outputs": [
    {
     "data": {
      "text/plain": [
       "Text(0, 0.5, 'Number of URLs')"
      ]
     },
     "execution_count": 41,
     "metadata": {},
     "output_type": "execute_result"
    },
    {
     "data": {
      "image/png": "[encoded data removed]",
      "text/plain": [
       "<Figure size 1080x360 with 1 Axes>"
      ]
     },
     "metadata": {
      "needs_background": "light"
     },
     "output_type": "display_data"
    }
   ],
   "source": [
    "plt.figure(figsize=(15,5))\n",
    "plt.title(\"Use Of http In Url\",fontsize=20)\n",
    "plt.xlabel(\"Use Of IP\",fontsize=18)\n",
    "plt.ylim((0,1000))\n",
    "sns.countplot(urldata['count-http'])\n",
    "plt.ylabel(\"Number of URLs\",fontsize=18)"
   ]
  },
  {
   "cell_type": "code",
   "execution_count": 42,
   "metadata": {
    "execution": {
     "iopub.execute_input": "2020-12-22T08:05:40.358760Z",
     "iopub.status.busy": "2020-12-22T08:05:40.357866Z",
     "iopub.status.idle": "2020-12-22T08:05:40.860056Z",
     "shell.execute_reply": "2020-12-22T08:05:40.860782Z"
    },
    "papermill": {
     "duration": 0.582121,
     "end_time": "2020-12-22T08:05:40.860952",
     "exception": false,
     "start_time": "2020-12-22T08:05:40.278831",
     "status": "completed"
    },
    "tags": []
   },
   "outputs": [
    {
     "data": {
      "text/plain": [
       "Text(0, 0.5, 'Number of URLs')"
      ]
     },
     "execution_count": 42,
     "metadata": {},
     "output_type": "execute_result"
    },
    {
     "data": {
      "image/png": "[encoded data removed]",
      "text/plain": [
       "<Figure size 1080x360 with 1 Axes>"
      ]
     },
     "metadata": {
      "needs_background": "light"
     },
     "output_type": "display_data"
    }
   ],
   "source": [
    "plt.figure(figsize=(15,5))\n",
    "plt.title(\"Use Of http In Url\",fontsize=20)\n",
    "plt.xlabel(\"Count Of http\",fontsize=18)\n",
    "plt.ylabel(\"Number of URLs\",fontsize=18)\n",
    "plt.ylim((0,1000))\n",
    "sns.countplot(urldata['count-http'],hue='label',data=urldata)\n",
    "plt.ylabel(\"Number of URLs\",fontsize=18)"
   ]
  },
  {
   "cell_type": "code",
   "execution_count": 43,
   "metadata": {
    "execution": {
     "iopub.execute_input": "2020-12-22T08:05:41.027594Z",
     "iopub.status.busy": "2020-12-22T08:05:41.012772Z",
     "iopub.status.idle": "2020-12-22T08:05:41.535694Z",
     "shell.execute_reply": "2020-12-22T08:05:41.535057Z"
    },
    "papermill": {
     "duration": 0.602407,
     "end_time": "2020-12-22T08:05:41.535808",
     "exception": false,
     "start_time": "2020-12-22T08:05:40.933401",
     "status": "completed"
    },
    "tags": []
   },
   "outputs": [
    {
     "data": {
      "text/plain": [
       "Text(0, 0.5, 'Number of URLs')"
      ]
     },
     "execution_count": 43,
     "metadata": {},
     "output_type": "execute_result"
    },
    {
     "data": {
      "image/png": "[encoded data removed]",
      "text/plain": [
       "<Figure size 1080x360 with 1 Axes>"
      ]
     },
     "metadata": {
      "needs_background": "light"
     },
     "output_type": "display_data"
    }
   ],
   "source": [
    "plt.figure(figsize=(15,5))\n",
    "plt.title(\"Use Of http In Url\",fontsize=20)\n",
    "plt.xlabel(\"Count Of http\",fontsize=18)\n",
    "\n",
    "sns.countplot(urldata['count-http'],hue='label',data=urldata)\n",
    "\n",
    "plt.ylabel(\"Number of URLs\",fontsize=18)"
   ]
  },
  {
   "cell_type": "code",
   "execution_count": 44,
   "metadata": {
    "execution": {
     "iopub.execute_input": "2020-12-22T08:05:41.691857Z",
     "iopub.status.busy": "2020-12-22T08:05:41.686082Z",
     "iopub.status.idle": "2020-12-22T08:05:41.891293Z",
     "shell.execute_reply": "2020-12-22T08:05:41.890641Z"
    },
    "papermill": {
     "duration": 0.28402,
     "end_time": "2020-12-22T08:05:41.891399",
     "exception": false,
     "start_time": "2020-12-22T08:05:41.607379",
     "status": "completed"
    },
    "tags": []
   },
   "outputs": [
    {
     "data": {
      "text/plain": [
       "Text(0, 0.5, 'Number Of URLs')"
      ]
     },
     "execution_count": 44,
     "metadata": {},
     "output_type": "execute_result"
    },
    {
     "data": {
      "image/png": "[encoded data removed]",
      "text/plain": [
       "<Figure size 1080x360 with 1 Axes>"
      ]
     },
     "metadata": {
      "needs_background": "light"
     },
     "output_type": "display_data"
    }
   ],
   "source": [
    "plt.figure(figsize=(15,5))\n",
    "plt.title(\"Use Of WWW In URL\",fontsize=20)\n",
    "plt.xlabel(\"Count Of WWW\",fontsize=18)\n",
    "sns.countplot(urldata['count-www'])\n",
    "plt.ylim(0,1000)\n",
    "plt.ylabel(\"Number Of URLs\",fontsize=18)"
   ]
  },
  {
   "cell_type": "code",
   "execution_count": 45,
   "metadata": {
    "execution": {
     "iopub.execute_input": "2020-12-22T08:05:42.057018Z",
     "iopub.status.busy": "2020-12-22T08:05:42.049062Z",
     "iopub.status.idle": "2020-12-22T08:05:42.535359Z",
     "shell.execute_reply": "2020-12-22T08:05:42.536048Z"
    },
    "papermill": {
     "duration": 0.570334,
     "end_time": "2020-12-22T08:05:42.536248",
     "exception": false,
     "start_time": "2020-12-22T08:05:41.965914",
     "status": "completed"
    },
    "tags": []
   },
   "outputs": [
    {
     "data": {
      "text/plain": [
       "Text(0, 0.5, 'Number Of URLs')"
      ]
     },
     "execution_count": 45,
     "metadata": {},
     "output_type": "execute_result"
    },
    {
     "data": {
      "image/png": "[encoded data removed]",
      "text/plain": [
       "<Figure size 1080x360 with 1 Axes>"
      ]
     },
     "metadata": {
      "needs_background": "light"
     },
     "output_type": "display_data"
    }
   ],
   "source": [
    "plt.figure(figsize=(15,5))\n",
    "plt.title(\"Use Of WWW In URL\",fontsize=20)\n",
    "plt.xlabel(\"Count Of WWW\",fontsize=18)\n",
    "\n",
    "sns.countplot(urldata['count-www'],hue='label',data=urldata)\n",
    "plt.ylim(0,1000)\n",
    "plt.ylabel(\"Number Of URLs\",fontsize=18)"
   ]
  },
  {
   "cell_type": "markdown",
   "metadata": {
    "papermill": {
     "duration": 0.10927,
     "end_time": "2020-12-22T08:05:42.753988",
     "exception": false,
     "start_time": "2020-12-22T08:05:42.644718",
     "status": "completed"
    },
    "tags": []
   },
   "source": [
    "# 3. Building Models Using Lexical Features Only"
   ]
  },
  {
   "cell_type": "markdown",
   "metadata": {
    "papermill": {
     "duration": 0.108186,
     "end_time": "2020-12-22T08:05:42.971526",
     "exception": false,
     "start_time": "2020-12-22T08:05:42.863340",
     "status": "completed"
    },
    "tags": []
   },
   "source": [
    "\n",
    "<br>1. Logistic Regression\n",
    "<br>2. XGBoost Classifier\n",
    "<br>3. Random Forest"
   ]
  },
  {
   "cell_type": "code",
   "execution_count": 46,
   "metadata": {
    "execution": {
     "iopub.execute_input": "2020-12-22T08:05:43.192030Z",
     "iopub.status.busy": "2020-12-22T08:05:43.191195Z",
     "iopub.status.idle": "2020-12-22T08:05:43.443418Z",
     "shell.execute_reply": "2020-12-22T08:05:43.442630Z"
    },
    "papermill": {
     "duration": 0.363478,
     "end_time": "2020-12-22T08:05:43.443551",
     "exception": false,
     "start_time": "2020-12-22T08:05:43.080073",
     "status": "completed"
    },
    "tags": []
   },
   "outputs": [],
   "source": [
    "#from sklearn.ensemble import RandomForestClassifier\n",
    "from sklearn.model_selection import train_test_split\n",
    "\n",
    "from sklearn.metrics import confusion_matrix,classification_report,accuracy_score\n",
    "\n",
    "\n"
   ]
  },
  {
   "cell_type": "code",
   "execution_count": 47,
   "metadata": {
    "execution": {
     "iopub.execute_input": "2020-12-22T08:05:43.682651Z",
     "iopub.status.busy": "2020-12-22T08:05:43.681762Z",
     "iopub.status.idle": "2020-12-22T08:05:43.686150Z",
     "shell.execute_reply": "2020-12-22T08:05:43.686897Z"
    },
    "papermill": {
     "duration": 0.134565,
     "end_time": "2020-12-22T08:05:43.687085",
     "exception": false,
     "start_time": "2020-12-22T08:05:43.552520",
     "status": "completed"
    },
    "tags": []
   },
   "outputs": [],
   "source": [
    "#Independent Variables\n",
    "x = urldata[['hostname_length',\n",
    "       'path_length', 'fd_length', 'count-', 'count@', 'count?',\n",
    "       'count%', 'count.', 'count=', 'count-http','count-https', 'count-www', 'count-digits',\n",
    "       'count-letters', 'count_dir', 'use_of_ip']]\n",
    "\n",
    "#Dependent Variable\n",
    "y = urldata['result']"
   ]
  },
  {
   "cell_type": "markdown",
   "metadata": {
    "papermill": {
     "duration": 0.108023,
     "end_time": "2020-12-22T08:05:43.904691",
     "exception": false,
     "start_time": "2020-12-22T08:05:43.796668",
     "status": "completed"
    },
    "tags": []
   },
   "source": [
    "## 3.1 Train test split"
   ]
  },
  {
   "cell_type": "code",
   "execution_count": 48,
   "metadata": {
    "execution": {
     "iopub.execute_input": "2020-12-22T08:05:44.131343Z",
     "iopub.status.busy": "2020-12-22T08:05:44.130204Z",
     "iopub.status.idle": "2020-12-22T08:05:53.784831Z",
     "shell.execute_reply": "2020-12-22T08:05:53.784226Z"
    },
    "papermill": {
     "duration": 9.770978,
     "end_time": "2020-12-22T08:05:53.784944",
     "exception": false,
     "start_time": "2020-12-22T08:05:44.013966",
     "status": "completed"
    },
    "tags": []
   },
   "outputs": [
    {
     "name": "stdout",
     "output_type": "stream",
     "text": [
      "Size of x-sample : (691476, 16)\n",
      "Size of y-sample : (691476, 1)\n"
     ]
    }
   ],
   "source": [
    "#Oversampling using SMOTE\n",
    "from imblearn.over_sampling import SMOTE\n",
    "\n",
    "x_sample, y_sample = SMOTE().fit_sample(x, y.values.ravel())\n",
    "\n",
    "x_sample = pd.DataFrame(x_sample)\n",
    "y_sample = pd.DataFrame(y_sample)\n",
    "\n",
    "# checking the sizes of the sample data\n",
    "print(\"Size of x-sample :\", x_sample.shape)\n",
    "print(\"Size of y-sample :\", y_sample.shape)"
   ]
  },
  {
   "cell_type": "code",
   "execution_count": 49,
   "metadata": {
    "execution": {
     "iopub.execute_input": "2020-12-22T08:05:53.939036Z",
     "iopub.status.busy": "2020-12-22T08:05:53.938347Z",
     "iopub.status.idle": "2020-12-22T08:05:54.090193Z",
     "shell.execute_reply": "2020-12-22T08:05:54.091394Z"
    },
    "papermill": {
     "duration": 0.231665,
     "end_time": "2020-12-22T08:05:54.091651",
     "exception": false,
     "start_time": "2020-12-22T08:05:53.859986",
     "status": "completed"
    },
    "tags": []
   },
   "outputs": [
    {
     "name": "stdout",
     "output_type": "stream",
     "text": [
      "Shape of x_train:  (553180, 16)\n",
      "Shape of x_valid:  (138296, 16)\n",
      "Shape of y_train:  (553180, 1)\n",
      "Shape of y_valid:  (138296, 1)\n"
     ]
    }
   ],
   "source": [
    "#Train test split\n",
    "from sklearn.model_selection import train_test_split\n",
    "\n",
    "x_train, x_test, y_train, y_test = train_test_split(x_sample, y_sample, test_size = 0.2)\n",
    "print(\"Shape of x_train: \", x_train.shape)\n",
    "print(\"Shape of x_valid: \", x_test.shape)\n",
    "print(\"Shape of y_train: \", y_train.shape)\n",
    "print(\"Shape of y_valid: \", y_test.shape)"
   ]
  },
  {
   "cell_type": "code",
   "execution_count": 50,
   "metadata": {
    "execution": {
     "iopub.execute_input": "2020-12-22T08:05:54.250307Z",
     "iopub.status.busy": "2020-12-22T08:05:54.249514Z",
     "iopub.status.idle": "2020-12-22T08:06:01.091908Z",
     "shell.execute_reply": "2020-12-22T08:06:01.090896Z"
    },
    "papermill": {
     "duration": 6.924583,
     "end_time": "2020-12-22T08:06:01.092123",
     "exception": false,
     "start_time": "2020-12-22T08:05:54.167540",
     "status": "completed"
    },
    "tags": []
   },
   "outputs": [],
   "source": [
    "import keras\n",
    "from keras.models import Sequential\n",
    "from keras.layers import Dense, Dropout, Activation\n",
    "from keras.callbacks import ModelCheckpoint\n",
    "import keras\n",
    "from keras.callbacks import ReduceLROnPlateau\n",
    "from keras.models import Sequential\n",
    "from keras.layers import Dense, Conv1D, MaxPooling1D, Flatten, Dropout, BatchNormalization ,Activation\n",
    "from keras.utils import np_utils, to_categorical\n",
    "from keras.callbacks import ModelCheckpoint"
   ]
  },
  {
   "cell_type": "code",
   "execution_count": 51,
   "metadata": {
    "execution": {
     "iopub.execute_input": "2020-12-22T08:06:01.250059Z",
     "iopub.status.busy": "2020-12-22T08:06:01.249380Z",
     "iopub.status.idle": "2020-12-22T08:06:01.256564Z",
     "shell.execute_reply": "2020-12-22T08:06:01.255848Z"
    },
    "papermill": {
     "duration": 0.08796,
     "end_time": "2020-12-22T08:06:01.256699",
     "exception": false,
     "start_time": "2020-12-22T08:06:01.168739",
     "status": "completed"
    },
    "tags": []
   },
   "outputs": [
    {
     "data": {
      "text/plain": [
       "(553180, 16)"
      ]
     },
     "execution_count": 51,
     "metadata": {},
     "output_type": "execute_result"
    }
   ],
   "source": [
    "x_train.shape"
   ]
  },
  {
   "cell_type": "code",
   "execution_count": 52,
   "metadata": {
    "execution": {
     "iopub.execute_input": "2020-12-22T08:06:01.420174Z",
     "iopub.status.busy": "2020-12-22T08:06:01.419553Z",
     "iopub.status.idle": "2020-12-22T08:06:01.568456Z",
     "shell.execute_reply": "2020-12-22T08:06:01.569195Z"
    },
    "papermill": {
     "duration": 0.234241,
     "end_time": "2020-12-22T08:06:01.569420",
     "exception": false,
     "start_time": "2020-12-22T08:06:01.335179",
     "status": "completed"
    },
    "tags": []
   },
   "outputs": [
    {
     "name": "stdout",
     "output_type": "stream",
     "text": [
      "Model: \"sequential\"\n",
      "_________________________________________________________________\n",
      "Layer (type)                 Output Shape              Param #   \n",
      "=================================================================\n",
      "dense (Dense)                (None, 32)                544       \n",
      "_________________________________________________________________\n",
      "dense_1 (Dense)              (None, 16)                528       \n",
      "_________________________________________________________________\n",
      "dense_2 (Dense)              (None, 8)                 136       \n",
      "_________________________________________________________________\n",
      "dense_3 (Dense)              (None, 1)                 9         \n",
      "=================================================================\n",
      "Total params: 1,217\n",
      "Trainable params: 1,217\n",
      "Non-trainable params: 0\n",
      "_________________________________________________________________\n"
     ]
    }
   ],
   "source": [
    "model = Sequential()\n",
    "model.add(Dense(32, activation = 'relu', input_shape = (16, )))\n",
    "\n",
    "model.add(Dense(16, activation='relu'))\n",
    "\n",
    "model.add(Dense(8, activation='relu')) \n",
    "\n",
    "model.add(Dense(1, activation='sigmoid')) \n",
    "model.summary()"
   ]
  },
  {
   "cell_type": "code",
   "execution_count": 53,
   "metadata": {
    "execution": {
     "iopub.execute_input": "2020-12-22T08:06:01.745361Z",
     "iopub.status.busy": "2020-12-22T08:06:01.744486Z",
     "iopub.status.idle": "2020-12-22T08:06:01.748686Z",
     "shell.execute_reply": "2020-12-22T08:06:01.747998Z"
    },
    "papermill": {
     "duration": 0.102135,
     "end_time": "2020-12-22T08:06:01.748796",
     "exception": false,
     "start_time": "2020-12-22T08:06:01.646661",
     "status": "completed"
    },
    "tags": []
   },
   "outputs": [],
   "source": [
    "opt = keras.optimizers.Adam(lr=0.0001)\n",
    "model.compile(optimizer= opt ,loss='binary_crossentropy',metrics=['acc'])"
   ]
  },
  {
   "cell_type": "code",
   "execution_count": 54,
   "metadata": {
    "execution": {
     "iopub.execute_input": "2020-12-22T08:06:01.911477Z",
     "iopub.status.busy": "2020-12-22T08:06:01.910744Z",
     "iopub.status.idle": "2020-12-22T08:06:25.861613Z",
     "shell.execute_reply": "2020-12-22T08:06:25.861050Z"
    },
    "papermill": {
     "duration": 24.034738,
     "end_time": "2020-12-22T08:06:25.861738",
     "exception": false,
     "start_time": "2020-12-22T08:06:01.827000",
     "status": "completed"
    },
    "tags": []
   },
   "outputs": [
    {
     "name": "stdout",
     "output_type": "stream",
     "text": [
      "Epoch 1/5\n",
      "2154/2161 [============================>.] - ETA: 0s - loss: 0.4671 - acc: 0.7838\n",
      "Epoch 00001: val_acc improved from -inf to 0.97960, saving model to url.h5\n",
      "2161/2161 [==============================] - 5s 2ms/step - loss: 0.4659 - acc: 0.7845 - val_loss: 0.1179 - val_acc: 0.9796\n",
      "Epoch 2/5\n",
      "2138/2161 [============================>.] - ETA: 0s - loss: 0.0516 - acc: 0.9907\n",
      "Epoch 00002: val_acc improved from 0.97960 to 0.99453, saving model to url.h5\n",
      "2161/2161 [==============================] - 5s 2ms/step - loss: 0.0514 - acc: 0.9907 - val_loss: 0.0303 - val_acc: 0.9945\n",
      "Epoch 3/5\n",
      "2151/2161 [============================>.] - ETA: 0s - loss: 0.0247 - acc: 0.9952\n",
      "Epoch 00003: val_acc improved from 0.99453 to 0.99570, saving model to url.h5\n",
      "2161/2161 [==============================] - 5s 2ms/step - loss: 0.0247 - acc: 0.9952 - val_loss: 0.0214 - val_acc: 0.9957\n",
      "Epoch 4/5\n",
      "2148/2161 [============================>.] - ETA: 0s - loss: 0.0200 - acc: 0.9959\n",
      "Epoch 00004: val_acc improved from 0.99570 to 0.99610, saving model to url.h5\n",
      "2161/2161 [==============================] - 4s 2ms/step - loss: 0.0201 - acc: 0.9959 - val_loss: 0.0192 - val_acc: 0.9961\n",
      "Epoch 5/5\n",
      "2161/2161 [==============================] - ETA: 0s - loss: 0.0185 - acc: 0.9961\n",
      "Epoch 00005: val_acc improved from 0.99610 to 0.99620, saving model to url.h5\n",
      "2161/2161 [==============================] - 4s 2ms/step - loss: 0.0185 - acc: 0.9961 - val_loss: 0.0186 - val_acc: 0.9962\n"
     ]
    }
   ],
   "source": [
    "checkpointer = ModelCheckpoint('url.h5', monitor='val_acc', mode='max', verbose=2, save_best_only=True)\n",
    "history=model.fit(x_train, y_train, batch_size=256, epochs=5, validation_data=(x_test, y_test), callbacks=[checkpointer])"
   ]
  },
  {
   "cell_type": "code",
   "execution_count": 55,
   "metadata": {
    "execution": {
     "iopub.execute_input": "2020-12-22T08:06:26.307378Z",
     "iopub.status.busy": "2020-12-22T08:06:26.300763Z",
     "iopub.status.idle": "2020-12-22T08:06:26.480507Z",
     "shell.execute_reply": "2020-12-22T08:06:26.481215Z"
    },
    "papermill": {
     "duration": 0.399986,
     "end_time": "2020-12-22T08:06:26.481377",
     "exception": false,
     "start_time": "2020-12-22T08:06:26.081391",
     "status": "completed"
    },
    "tags": []
   },
   "outputs": [
    {
     "data": {
      "image/png": "[encoded data removed]",
      "text/plain": [
       "<Figure size 432x288 with 1 Axes>"
      ]
     },
     "metadata": {
      "needs_background": "light"
     },
     "output_type": "display_data"
    }
   ],
   "source": [
    "# plot the training artifacts\n",
    "plt.plot(history.history['acc'])\n",
    "plt.plot(history.history['val_acc'])\n",
    "plt.title('Model accuracy')\n",
    "plt.ylabel('accuracy')\n",
    "plt.xlabel('epoch')\n",
    "plt.legend(['train_acc','val_acc'], loc = 'upper right')\n",
    "plt.show()"
   ]
  },
  {
   "cell_type": "code",
   "execution_count": 56,
   "metadata": {
    "execution": {
     "iopub.execute_input": "2020-12-22T08:06:26.928953Z",
     "iopub.status.busy": "2020-12-22T08:06:26.914642Z",
     "iopub.status.idle": "2020-12-22T08:06:27.090499Z",
     "shell.execute_reply": "2020-12-22T08:06:27.089941Z"
    },
    "papermill": {
     "duration": 0.396695,
     "end_time": "2020-12-22T08:06:27.090627",
     "exception": false,
     "start_time": "2020-12-22T08:06:26.693932",
     "status": "completed"
    },
    "tags": []
   },
   "outputs": [
    {
     "data": {
      "image/png": "[encoded data removed]",
      "text/plain": [
       "<Figure size 432x288 with 1 Axes>"
      ]
     },
     "metadata": {
      "needs_background": "light"
     },
     "output_type": "display_data"
    }
   ],
   "source": [
    "# plot the training artifacts\n",
    "\n",
    "plt.plot(history.history['loss'])\n",
    "plt.plot(history.history['val_loss'])\n",
    "plt.title('Model loss')\n",
    "plt.ylabel('loss')\n",
    "plt.xlabel('epoch')\n",
    "plt.legend(['train_loss','val_loss'], loc = 'upper right')\n",
    "plt.show()"
   ]
  },
  {
   "cell_type": "code",
   "execution_count": 57,
   "metadata": {
    "execution": {
     "iopub.execute_input": "2020-12-22T08:06:27.529716Z",
     "iopub.status.busy": "2020-12-22T08:06:27.528876Z",
     "iopub.status.idle": "2020-12-22T08:06:30.896567Z",
     "shell.execute_reply": "2020-12-22T08:06:30.897072Z"
    },
    "papermill": {
     "duration": 3.590586,
     "end_time": "2020-12-22T08:06:30.897262",
     "exception": false,
     "start_time": "2020-12-22T08:06:27.306676",
     "status": "completed"
    },
    "tags": []
   },
   "outputs": [],
   "source": [
    "# predicting on test data.\n",
    "pred_test = model.predict(x_test)\n",
    "for i in range (len(pred_test)):\n",
    "    if (pred_test[i] < 0.5):\n",
    "        pred_test[i] = 0\n",
    "    else:\n",
    "        pred_test[i] = 1\n",
    "pred_test = pred_test.astype(int)"
   ]
  },
  {
   "cell_type": "code",
   "execution_count": 58,
   "metadata": {
    "execution": {
     "iopub.execute_input": "2020-12-22T08:06:31.341920Z",
     "iopub.status.busy": "2020-12-22T08:06:31.341030Z",
     "iopub.status.idle": "2020-12-22T08:06:31.343578Z",
     "shell.execute_reply": "2020-12-22T08:06:31.342962Z"
    },
    "papermill": {
     "duration": 0.229932,
     "end_time": "2020-12-22T08:06:31.343684",
     "exception": false,
     "start_time": "2020-12-22T08:06:31.113752",
     "status": "completed"
    },
    "tags": []
   },
   "outputs": [],
   "source": [
    "def view_result(array):\n",
    "    array = np.array(array)\n",
    "    for i in range(len(array)):\n",
    "        if array[i] == 0:\n",
    "            print(\"Non Mallicious\")\n",
    "        else:\n",
    "            print(\"Mallicious\")"
   ]
  },
  {
   "cell_type": "code",
   "execution_count": 59,
   "metadata": {
    "execution": {
     "iopub.execute_input": "2020-12-22T08:06:31.784102Z",
     "iopub.status.busy": "2020-12-22T08:06:31.783143Z",
     "iopub.status.idle": "2020-12-22T08:06:31.787663Z",
     "shell.execute_reply": "2020-12-22T08:06:31.787004Z"
    },
    "papermill": {
     "duration": 0.230873,
     "end_time": "2020-12-22T08:06:31.787770",
     "exception": false,
     "start_time": "2020-12-22T08:06:31.556897",
     "status": "completed"
    },
    "tags": []
   },
   "outputs": [
    {
     "name": "stdout",
     "output_type": "stream",
     "text": [
      "Non Mallicious\n",
      "Non Mallicious\n",
      "Non Mallicious\n",
      "Non Mallicious\n",
      "Non Mallicious\n",
      "Non Mallicious\n",
      "Non Mallicious\n",
      "Non Mallicious\n",
      "Non Mallicious\n",
      "Mallicious\n"
     ]
    }
   ],
   "source": [
    "view_result(pred_test[:10])"
   ]
  },
  {
   "cell_type": "code",
   "execution_count": 60,
   "metadata": {
    "execution": {
     "iopub.execute_input": "2020-12-22T08:06:32.237403Z",
     "iopub.status.busy": "2020-12-22T08:06:32.236527Z",
     "iopub.status.idle": "2020-12-22T08:06:32.244496Z",
     "shell.execute_reply": "2020-12-22T08:06:32.243589Z"
    },
    "papermill": {
     "duration": 0.23376,
     "end_time": "2020-12-22T08:06:32.244644",
     "exception": false,
     "start_time": "2020-12-22T08:06:32.010884",
     "status": "completed"
    },
    "tags": []
   },
   "outputs": [
    {
     "name": "stdout",
     "output_type": "stream",
     "text": [
      "Non Mallicious\n",
      "Non Mallicious\n",
      "Non Mallicious\n",
      "Non Mallicious\n",
      "Non Mallicious\n",
      "Non Mallicious\n",
      "Non Mallicious\n",
      "Non Mallicious\n",
      "Non Mallicious\n",
      "Mallicious\n"
     ]
    }
   ],
   "source": [
    "view_result(y_test[:10])"
   ]
  }
 ],
 "metadata": {
  "kernelspec": {
   "display_name": "Python 3",
   "language": "python",
   "name": "python3"
  },
  "language_info": {
   "codemirror_mode": {
    "name": "ipython",
    "version": 3
   },
   "file_extension": ".py",
   "mimetype": "text/x-python",
   "name": "python",
   "nbconvert_exporter": "python",
   "pygments_lexer": "ipython3",
   "version": "3.7.6"
  },
  "papermill": {
   "duration": 111.124202,
   "end_time": "2020-12-22T08:06:32.678848",
   "environment_variables": {},
   "exception": null,
   "input_path": "__notebook__.ipynb",
   "output_path": "__notebook__.ipynb",
   "parameters": {},
   "start_time": "2020-12-22T08:04:41.554646",
   "version": "2.1.0"
  }
 },
 "nbformat": 4,
 "nbformat_minor": 4
}
